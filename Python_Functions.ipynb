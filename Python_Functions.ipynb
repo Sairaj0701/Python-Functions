{
  "nbformat": 4,
  "nbformat_minor": 0,
  "metadata": {
    "colab": {
      "provenance": []
    },
    "kernelspec": {
      "name": "python3",
      "display_name": "Python 3"
    },
    "language_info": {
      "name": "python"
    }
  },
  "cells": [
    {
      "cell_type": "markdown",
      "source": [
        "# ***Therotical Questions***"
      ],
      "metadata": {
        "id": "AfzQA_h0UQvy"
      }
    },
    {
      "cell_type": "markdown",
      "source": [
        "1. What is the difference between a function and a method in Python?\n",
        "- A function is a block of code that performs a specific task and it is independent while a method is also a function,but it is associated with an object(like a list,string,etc)\n"
      ],
      "metadata": {
        "id": "At7Yp4NSUY6v"
      }
    },
    {
      "cell_type": "markdown",
      "source": [
        "Function Example\n"
      ],
      "metadata": {
        "id": "OHwU5UOmf_Li"
      }
    },
    {
      "cell_type": "code",
      "source": [
        "def greet():\n",
        "  print(\"Hellow,Welcome!\")\n"
      ],
      "metadata": {
        "id": "DJ6fhcHdaE_6"
      },
      "execution_count": null,
      "outputs": []
    },
    {
      "cell_type": "markdown",
      "source": [
        "Method Example"
      ],
      "metadata": {
        "id": "2Qne6382pRB_"
      }
    },
    {
      "cell_type": "code",
      "source": [
        "class MyClass:\n",
        "    def say_hello(self):\n",
        "        print(\"Hello!\")"
      ],
      "metadata": {
        "id": "8juTFIL9pXIX"
      },
      "execution_count": null,
      "outputs": []
    },
    {
      "cell_type": "markdown",
      "source": [
        "2.Explain the concept of function arguments and parameters in Python.\n",
        "- In Python, parameters are variables listed inside the parentheses when defining a function, acting as placeholders for values the function expects. Arguments are the actual values passed to the function when it is called, which replace the parameters during execution. This distinction helps in understanding how data is passed into functions for processing. For example, in def add(a, b):, a and b are parameters, and when calling add(3, 5), the values 3 and 5 are arguments."
      ],
      "metadata": {
        "id": "3WHWO2MxqOF4"
      }
    },
    {
      "cell_type": "markdown",
      "source": [
        "Parameter Example"
      ],
      "metadata": {
        "id": "jwUhOLtAsXcq"
      }
    },
    {
      "cell_type": "code",
      "source": [
        "def greet(name):  # 'name' is a parameter\n",
        "    print(\"Hello!\")"
      ],
      "metadata": {
        "id": "00kvze9Sscf0"
      },
      "execution_count": null,
      "outputs": []
    },
    {
      "cell_type": "markdown",
      "source": [
        "Arguments Example"
      ],
      "metadata": {
        "id": "uH6CujUqsxRT"
      }
    },
    {
      "cell_type": "code",
      "source": [
        "greet(\"Alice\")  # \"Alice\" is an argument\n"
      ],
      "metadata": {
        "colab": {
          "base_uri": "https://localhost:8080/"
        },
        "id": "qlDMurpDs42u",
        "outputId": "d9df1896-d752-494c-89a9-f0819c2247f1"
      },
      "execution_count": null,
      "outputs": [
        {
          "output_type": "stream",
          "name": "stdout",
          "text": [
            "Hello!\n"
          ]
        }
      ]
    },
    {
      "cell_type": "markdown",
      "source": [
        "3.What are the different ways to define and call a function in Python?\n",
        "- There are different ways to define and call a function in Python:\n",
        "\n",
        " 1.Simple function with no parameters\n",
        " 2.Function with parameters\n",
        " 3.Function with return value\n",
        " 4.Function with default parameters\n",
        " 5.Function with variable-length     arguments\n"
      ],
      "metadata": {
        "id": "LQ3rmx-StUHC"
      }
    },
    {
      "cell_type": "markdown",
      "source": [
        "1.Simple function with no parameters"
      ],
      "metadata": {
        "id": "F2t4qPDZTyBP"
      }
    },
    {
      "cell_type": "code",
      "source": [
        "def greet():\n",
        "    print(\"Hello!\")\n",
        "greet()"
      ],
      "metadata": {
        "colab": {
          "base_uri": "https://localhost:8080/"
        },
        "id": "sKl4pXsCT4AB",
        "outputId": "cc505375-5b57-4d58-bb43-07b4f10c4644"
      },
      "execution_count": null,
      "outputs": [
        {
          "output_type": "stream",
          "name": "stdout",
          "text": [
            "Hello!\n"
          ]
        }
      ]
    },
    {
      "cell_type": "markdown",
      "source": [
        "2.Function with parameters"
      ],
      "metadata": {
        "id": "9qPOrcFyUW1B"
      }
    },
    {
      "cell_type": "code",
      "source": [
        "def greet(name):\n",
        "    print(\"Hello, \" + name + \"!\")\n",
        "greet(\"Alice\")"
      ],
      "metadata": {
        "colab": {
          "base_uri": "https://localhost:8080/"
        },
        "id": "JcAIU-JATlpj",
        "outputId": "608dd721-676c-4b32-f2dc-72480f05510b"
      },
      "execution_count": null,
      "outputs": [
        {
          "output_type": "stream",
          "name": "stdout",
          "text": [
            "Hello, Alice!\n"
          ]
        }
      ]
    },
    {
      "cell_type": "markdown",
      "source": [
        "3.Function with return value"
      ],
      "metadata": {
        "id": "neXMyAmcUf4q"
      }
    },
    {
      "cell_type": "code",
      "source": [
        "def add(a, b):\n",
        "    return a + b\n",
        "result = add(2, 3)\n",
        "print(result)"
      ],
      "metadata": {
        "colab": {
          "base_uri": "https://localhost:8080/"
        },
        "id": "JrymdG4NUlwA",
        "outputId": "afd0e5fe-d48e-4f71-fba9-d117f3ebc969"
      },
      "execution_count": null,
      "outputs": [
        {
          "output_type": "stream",
          "name": "stdout",
          "text": [
            "5\n"
          ]
        }
      ]
    },
    {
      "cell_type": "markdown",
      "source": [
        "4.Function with default parameters"
      ],
      "metadata": {
        "id": "dH9p52RuUqYj"
      }
    },
    {
      "cell_type": "code",
      "source": [
        "def greet(name=\"Guest\"):\n",
        "    print(\"Hello, \" + name + \"!\")\n",
        "greet()"
      ],
      "metadata": {
        "colab": {
          "base_uri": "https://localhost:8080/"
        },
        "id": "FXiuPPeWUp-z",
        "outputId": "768d0042-3167-4cbc-c84d-f3d5a455358f"
      },
      "execution_count": null,
      "outputs": [
        {
          "output_type": "stream",
          "name": "stdout",
          "text": [
            "Hello, Guest!\n"
          ]
        }
      ]
    },
    {
      "cell_type": "markdown",
      "source": [
        "5.Function with variable-length arguments\n",
        "\n"
      ],
      "metadata": {
        "id": "0KTEmuUPU1Sd"
      }
    },
    {
      "cell_type": "code",
      "source": [
        "def sum_all(*args):\n",
        "    return sum(args)\n",
        "print(sum_all(1, 2, 3))"
      ],
      "metadata": {
        "colab": {
          "base_uri": "https://localhost:8080/"
        },
        "id": "omzteAHYU9O2",
        "outputId": "c24f6acc-da87-4cd6-e509-63a521840735"
      },
      "execution_count": null,
      "outputs": [
        {
          "output_type": "stream",
          "name": "stdout",
          "text": [
            "6\n"
          ]
        }
      ]
    },
    {
      "cell_type": "markdown",
      "source": [
        "4.. What is the purpose of the `return` statement in a Python function?\n",
        "- The purpose of the return statement in a Python function is to exit the function and send a value back to the caller.This allows the function to produce an output that can be stored, used in expressions,or passed to other functions.Without a return statement,a function returns None by default, meaning it doesn't send any meaningful result back.The return statement helps in making functions reusable and modular by providing computed results."
      ],
      "metadata": {
        "id": "MJT5RlnAVPOn"
      }
    },
    {
      "cell_type": "code",
      "source": [
        "def add(a, b):\n",
        "    return a + b\n",
        "    result = add(3, 4)\n",
        "    print(result)"
      ],
      "metadata": {
        "id": "Iulhxdh2VuI5"
      },
      "execution_count": null,
      "outputs": []
    },
    {
      "cell_type": "markdown",
      "source": [
        "5. What are iterators in Python and how do they differ from iterables?\n",
        "- Iterables in Python are objects that can be looped over or iterated, such as lists, tuples, and strings. They implement the __iter__()method, which returns an iterator.An iterator is an object that manages the state of iteration and returns the next item from a sequence when its __next__() method is called. Unlike iterables, iterators keep track of where they are in the sequence and raise a StopIteration exception when there are no more items.\n"
      ],
      "metadata": {
        "id": "YELwbkWpV_nj"
      }
    },
    {
      "cell_type": "markdown",
      "source": [
        "Example of iterable"
      ],
      "metadata": {
        "id": "erludcgPWjOX"
      }
    },
    {
      "cell_type": "code",
      "source": [
        "my_list = [1, 2, 3]\n",
        "for item in my_list:\n",
        "    print(item)"
      ],
      "metadata": {
        "colab": {
          "base_uri": "https://localhost:8080/"
        },
        "id": "Q26awGSjWmkh",
        "outputId": "96a954e4-f2dc-4c8a-8928-15c61333c2f4"
      },
      "execution_count": null,
      "outputs": [
        {
          "output_type": "stream",
          "name": "stdout",
          "text": [
            "1\n",
            "2\n",
            "3\n"
          ]
        }
      ]
    },
    {
      "cell_type": "markdown",
      "source": [
        "Example of iterator"
      ],
      "metadata": {
        "id": "-hI5iOFhWy2n"
      }
    },
    {
      "cell_type": "code",
      "source": [
        "my_list = [1, 2, 3]\n",
        "my_iter = iter(my_list)\n",
        "print(next(my_iter))\n",
        "print(next(my_iter))"
      ],
      "metadata": {
        "colab": {
          "base_uri": "https://localhost:8080/"
        },
        "id": "snhi6kbnW2lX",
        "outputId": "d952fb9e-9e9d-44d2-ae3f-4cfb6f3f50e0"
      },
      "execution_count": null,
      "outputs": [
        {
          "output_type": "stream",
          "name": "stdout",
          "text": [
            "1\n",
            "2\n"
          ]
        }
      ]
    },
    {
      "cell_type": "markdown",
      "source": [
        "6. Explain the concept of generators in Python and how they are defined.\n",
        "- Generators in Python are special functions that return an iterator, which produces a sequence of values one at a time as they are requested, instead of computing and storing all values at once.They are defined like normal functions using the def keyword but use the yield statement instead of return. Each yield pauses the function’s state and sends a value back to the caller, resuming when next requested.This makes generators memory-efficient and ideal for working with large data streams or infinite sequence."
      ],
      "metadata": {
        "id": "O4uHw6wcXJ4l"
      }
    },
    {
      "cell_type": "markdown",
      "source": [
        "Example"
      ],
      "metadata": {
        "id": "6U3sAwKXXfPS"
      }
    },
    {
      "cell_type": "code",
      "source": [
        "def my_generator(n):\n",
        "    value = 0\n",
        "    while value < n:\n",
        "        yield value\n",
        "        value += 1\n",
        "\n",
        "for val in my_generator(3):\n",
        "    print(val)"
      ],
      "metadata": {
        "colab": {
          "base_uri": "https://localhost:8080/"
        },
        "id": "DJUoxLsZXbet",
        "outputId": "530bfacd-2a24-474a-c143-fe22413ea91e"
      },
      "execution_count": null,
      "outputs": [
        {
          "output_type": "stream",
          "name": "stdout",
          "text": [
            "0\n",
            "1\n",
            "2\n"
          ]
        }
      ]
    },
    {
      "cell_type": "markdown",
      "source": [
        "7. What are the advantages of using generators over regular functions?\n",
        "- Advantages of using generators over regular functions include:\n",
        "\n",
        "  1.Memory Efficiency: Generators produce values one at a time on demand, which saves memory especially when working with large datasets or infinite sequences, unlike regular functions that return entire collections at once.\n",
        "\n",
        "  2.Lazy Evaluation: They generate values only as needed, enabling efficient processing without calculating all results upfront.\n",
        "\n",
        "  3.State Preservation: Generators automatically maintain their execution state between yields, making them concise for complex iteration without needing additional data structures.\n",
        "\n",
        "  4.Improved Performance: For large data streams, generators can start producing results immediately without waiting for all computations to complete.\n",
        "\n",
        "  5.simpler Code: Generators simplify code that deals with sequences or streams by replacing complex iterator classes with clear function logic using the yield keyword."
      ],
      "metadata": {
        "id": "vhEo8zAkXrF5"
      }
    },
    {
      "cell_type": "markdown",
      "source": [
        "Example showing memory efficiency with a generator vs a list:"
      ],
      "metadata": {
        "id": "iqtni9SkYfol"
      }
    },
    {
      "cell_type": "code",
      "source": [
        "def count_up_to(n):\n",
        "    i = 0\n",
        "    while i < n:\n",
        "        yield i\n",
        "        i += 1\n",
        "for num in count_up_to(3):\n",
        "    print(num)"
      ],
      "metadata": {
        "colab": {
          "base_uri": "https://localhost:8080/"
        },
        "id": "X8S65EKOY1Wv",
        "outputId": "d8c1863a-5c2b-46dd-dc6f-5eafbe05776e"
      },
      "execution_count": null,
      "outputs": [
        {
          "output_type": "stream",
          "name": "stdout",
          "text": [
            "0\n",
            "1\n",
            "2\n"
          ]
        }
      ]
    },
    {
      "cell_type": "markdown",
      "source": [
        "8. What is a lambda function in Python and when is it typically used?\n",
        "- A lambda function in Python is a small anonymous function defined with the lambda keyword. Unlike regular functions defined with def, lambda functions contain a single expression and return its value without a return statement. They are typically used for short, one-time operations where defining a full function would be unnecessary or cumbersome. Common uses include passing simple functions as arguments to higher-order functions like map(),filter(),and sorted().\n",
        "\n",
        "\n",
        "\n"
      ],
      "metadata": {
        "id": "KQoSRhHwY_ew"
      }
    },
    {
      "cell_type": "markdown",
      "source": [
        "Example"
      ],
      "metadata": {
        "id": "0-JPAHTjZOmx"
      }
    },
    {
      "cell_type": "code",
      "source": [
        "square = lambda x: x * x\n",
        "print(square(5))"
      ],
      "metadata": {
        "colab": {
          "base_uri": "https://localhost:8080/"
        },
        "id": "YGzZPRYkZQ1R",
        "outputId": "19b80b71-8626-4a39-b1dd-7a4cb4ddd4be"
      },
      "execution_count": null,
      "outputs": [
        {
          "output_type": "stream",
          "name": "stdout",
          "text": [
            "25\n"
          ]
        }
      ]
    },
    {
      "cell_type": "markdown",
      "source": [
        "9. Explain the purpose and usage of the `map()` function in Python.\n",
        "- The purpose of the map() function in Python is to apply a given function to each item of an iterable (like a list or tuple) and return a map object (an iterator) with the results.It is typically used to transform or process all elements in a collection efficiently without writing explicit loops.The map object can be converted into other data types like lists or sets for further processing or display."
      ],
      "metadata": {
        "id": "G5vZGoApZV6g"
      }
    },
    {
      "cell_type": "markdown",
      "source": [
        "Example"
      ],
      "metadata": {
        "id": "xWWFyX0WZjvH"
      }
    },
    {
      "cell_type": "code",
      "source": [
        "def square(x):\n",
        "    return x * x\n",
        "\n",
        "numbers = [1, 2, 3, 4]\n",
        "squared = map(square, numbers)\n",
        "\n",
        "print(list(squared))"
      ],
      "metadata": {
        "colab": {
          "base_uri": "https://localhost:8080/"
        },
        "id": "Hkm6GSnEZife",
        "outputId": "5f7b8472-0f73-4722-9c86-c7b5635c3781"
      },
      "execution_count": null,
      "outputs": [
        {
          "output_type": "stream",
          "name": "stdout",
          "text": [
            "[1, 4, 9, 16]\n"
          ]
        }
      ]
    },
    {
      "cell_type": "markdown",
      "source": [
        "10.What is the difference between `map()`,`reduce()',and`filter()`functions in Python?\n",
        "- The difference between map(), reduce(), and filter() functions in Python lies in their purpose and output:\n",
        "\n",
        "- map() applies a given function to each item in an iterable and returns an iterator with the transformed elements. Use it when you want to modify or transform every element.\n"
      ],
      "metadata": {
        "id": "xy1hIoIcZ07n"
      }
    },
    {
      "cell_type": "markdown",
      "source": [
        "Example"
      ],
      "metadata": {
        "id": "SOfq_sZnaigZ"
      }
    },
    {
      "cell_type": "code",
      "source": [
        "numbers = [1, 2, 3, 4]\n",
        "squared = list(map(lambda x: x ** 2, numbers))\n",
        "print(squared)"
      ],
      "metadata": {
        "colab": {
          "base_uri": "https://localhost:8080/"
        },
        "id": "UHQwNoLCamOH",
        "outputId": "2249fe63-7bdc-4952-ba02-62c7d5e4432f"
      },
      "execution_count": null,
      "outputs": [
        {
          "output_type": "stream",
          "name": "stdout",
          "text": [
            "[1, 4, 9, 16]\n"
          ]
        }
      ]
    },
    {
      "cell_type": "markdown",
      "source": [
        "  - filter() applies a function that returns a Boolean to each item and returns only those items that satisfy the condition (i.e., where function returns True). Use it to select elements based on a condition."
      ],
      "metadata": {
        "id": "sb91UjDUars_"
      }
    },
    {
      "cell_type": "markdown",
      "source": [
        "Example"
      ],
      "metadata": {
        "id": "mBe4Y4_Ba8nx"
      }
    },
    {
      "cell_type": "code",
      "source": [
        "numbers = [1, 2, 3, 4, 5, 6]\n",
        "even_numbers = list(filter(lambda x: x % 2 == 0, numbers))\n",
        "print(even_numbers)"
      ],
      "metadata": {
        "colab": {
          "base_uri": "https://localhost:8080/"
        },
        "id": "QX74TvjHbQSr",
        "outputId": "ba0f9bc9-016e-4ee5-a862-2a7f37185afb"
      },
      "execution_count": null,
      "outputs": [
        {
          "output_type": "stream",
          "name": "stdout",
          "text": [
            "[2, 4, 6]\n"
          ]
        }
      ]
    },
    {
      "cell_type": "markdown",
      "source": [
        " - reduce() (from functools module) cumulatively applies a function to pairs of elements in an iterable to reduce it to a single value, such as a sum or product. Use it when you want to combine all elements into one result."
      ],
      "metadata": {
        "id": "RtWU6Y1_bUX2"
      }
    },
    {
      "cell_type": "markdown",
      "source": [
        "Example"
      ],
      "metadata": {
        "id": "H7dLmSgAbY1A"
      }
    },
    {
      "cell_type": "code",
      "source": [
        "from functools import reduce\n",
        "numbers = [1, 2, 3, 4]\n",
        "product = reduce(lambda x, y: x * y, numbers)\n",
        "print(product)"
      ],
      "metadata": {
        "colab": {
          "base_uri": "https://localhost:8080/"
        },
        "id": "6g0pTiEfba8b",
        "outputId": "224235c1-3443-416e-cd48-667caa2110fb"
      },
      "execution_count": null,
      "outputs": [
        {
          "output_type": "stream",
          "name": "stdout",
          "text": [
            "24\n"
          ]
        }
      ]
    },
    {
      "cell_type": "markdown",
      "source": [
        "# **Practical Questions**"
      ],
      "metadata": {
        "id": "f_tsKqb5bfBE"
      }
    },
    {
      "cell_type": "markdown",
      "source": [
        "### Q1.Write a Python function that takes a list of numbers as input and returns the sum of all even numbers in the list."
      ],
      "metadata": {
        "id": "uUd6N8oZeKHh"
      }
    },
    {
      "cell_type": "code",
      "source": [
        "def sum_even_numbers(numbers):\n",
        "    even_numbers = [num for num in numbers if num % 2 == 0]\n",
        "    return sum(even_numbers)\n",
        "nums = [1, 2, 3, 4, 5, 6, 7, 8, 9,10]\n",
        "result = sum_even_numbers(nums)\n",
        "print(result)"
      ],
      "metadata": {
        "colab": {
          "base_uri": "https://localhost:8080/"
        },
        "id": "_7SCMT0MklQm",
        "outputId": "58aa952d-e76c-4de3-c67c-46e3e7962678"
      },
      "execution_count": null,
      "outputs": [
        {
          "output_type": "stream",
          "name": "stdout",
          "text": [
            "30\n"
          ]
        }
      ]
    },
    {
      "cell_type": "markdown",
      "source": [
        "### Q2. Create a Python function that accepts a string and returns the reverse of that string"
      ],
      "metadata": {
        "id": "8AhynYoJlmSc"
      }
    },
    {
      "cell_type": "code",
      "source": [
        "string = \"Hello, World!\"\n",
        "reversed_string = string[::-1]\n",
        "print(reversed_string)"
      ],
      "metadata": {
        "colab": {
          "base_uri": "https://localhost:8080/"
        },
        "id": "rgQ3E4qslqKX",
        "outputId": "5e6b507a-a18e-4c2a-f3b5-e1edeb810ccf"
      },
      "execution_count": null,
      "outputs": [
        {
          "output_type": "stream",
          "name": "stdout",
          "text": [
            "!dlroW ,olleH\n"
          ]
        }
      ]
    },
    {
      "cell_type": "markdown",
      "source": [
        "### Q3.Implement a Python function that takes a list of integers and returns a new list containing the squares of each number"
      ],
      "metadata": {
        "id": "uneBwaSamA8o"
      }
    },
    {
      "cell_type": "code",
      "source": [
        "list_of_integers = [1, 3, 5, 7, 9]\n",
        "squared_list = [x ** 2 for x in list_of_integers]\n",
        "print(squared_list)\n"
      ],
      "metadata": {
        "colab": {
          "base_uri": "https://localhost:8080/"
        },
        "id": "4gQ6Ta-kmRjt",
        "outputId": "35cc2526-6aa6-4da2-c731-a4fc0c671d9e"
      },
      "execution_count": null,
      "outputs": [
        {
          "output_type": "stream",
          "name": "stdout",
          "text": [
            "[1, 9, 25, 49, 81]\n"
          ]
        }
      ]
    },
    {
      "cell_type": "markdown",
      "source": [
        "### Q4. Write a Python function that checks if a given number is prime or not from 1 to 200."
      ],
      "metadata": {
        "id": "zI356wufmiYk"
      }
    },
    {
      "cell_type": "code",
      "source": [
        "import math\n",
        "\n",
        "def is_prime(num):\n",
        "    if num <= 1:\n",
        "        return False\n",
        "    for i in range(2, int(math.sqrt(num)) + 1):\n",
        "        if num % i == 0:\n",
        "            return False\n",
        "    return True\n",
        "number = int(input(\"Enter a number: \"))\n",
        "if is_prime(number):\n",
        "    print(f\"{number} is a prime number.\")\n",
        "else:\n",
        "    print(f\"{number} is not a prime number.\")"
      ],
      "metadata": {
        "colab": {
          "base_uri": "https://localhost:8080/"
        },
        "id": "gx1T2hAdmqxh",
        "outputId": "4275e99c-af03-4afc-ecde-a880f97f8c2a"
      },
      "execution_count": null,
      "outputs": [
        {
          "output_type": "stream",
          "name": "stdout",
          "text": [
            "Enter a number: 97\n",
            "97 is a prime number.\n"
          ]
        }
      ]
    },
    {
      "cell_type": "markdown",
      "source": [
        "### Q5.Create an iterator class in Python that generates the Fibonacci sequence up to a specified number of terms.\n"
      ],
      "metadata": {
        "id": "d42s6zfqopmU"
      }
    },
    {
      "cell_type": "code",
      "source": [
        "def fibonacci_generator(n):\n",
        "    a, b = 0, 1\n",
        "    for _ in range(n):\n",
        "        yield a\n",
        "        a, b = b, a + b\n",
        "for num in fibonacci_generator(10):\n",
        "    print(num)\n",
        "\n",
        "\n"
      ],
      "metadata": {
        "colab": {
          "base_uri": "https://localhost:8080/"
        },
        "id": "Nyz1WByapjlb",
        "outputId": "c069afe7-b1be-4b3c-de83-7e470cb1511c"
      },
      "execution_count": null,
      "outputs": [
        {
          "output_type": "stream",
          "name": "stdout",
          "text": [
            "0\n",
            "1\n",
            "1\n",
            "2\n",
            "3\n",
            "5\n",
            "8\n",
            "13\n",
            "21\n",
            "34\n"
          ]
        }
      ]
    },
    {
      "cell_type": "markdown",
      "source": [
        "### Q6.Write a generator function in Python that yields the powers of 2 up to a given exponent."
      ],
      "metadata": {
        "id": "zunG-Dc2p5de"
      }
    },
    {
      "cell_type": "code",
      "source": [
        "def power_of_two(exponent):\n",
        "    for i in range(exponent + 1):\n",
        "        yield 2 ** i\n",
        "for power in power_of_two(5):\n",
        "    print(power)"
      ],
      "metadata": {
        "colab": {
          "base_uri": "https://localhost:8080/"
        },
        "id": "1zZD_qOaqceo",
        "outputId": "69cdc8b4-e5f1-47de-9c23-f0d2115822c2"
      },
      "execution_count": null,
      "outputs": [
        {
          "output_type": "stream",
          "name": "stdout",
          "text": [
            "1\n",
            "2\n",
            "4\n",
            "8\n",
            "16\n",
            "32\n"
          ]
        }
      ]
    },
    {
      "cell_type": "markdown",
      "source": [
        "### Q7.Implement a generator function that reads a file line by line and yields each line as a string."
      ],
      "metadata": {
        "id": "w3GkU63Qqjsn"
      }
    },
    {
      "cell_type": "code",
      "metadata": {
        "colab": {
          "base_uri": "https://localhost:8080/"
        },
        "id": "490691d8",
        "outputId": "246a9b53-876b-4d09-f0a0-94984eb2f51f"
      },
      "source": [
        "def read_lines(file_path):\n",
        "    with open(file_path, 'r') as file:\n",
        "        for line in file:\n",
        "            yield line.strip()\n",
        "file_path = 'example.txt'\n",
        "for line in read_lines(file_path):\n",
        "    print(line)"
      ],
      "execution_count": null,
      "outputs": [
        {
          "output_type": "stream",
          "name": "stdout",
          "text": [
            "This is the first line.\n",
            "This is the second line.\n",
            "And this is the third line.\n"
          ]
        }
      ]
    },
    {
      "cell_type": "markdown",
      "source": [
        "### Q8.Use a lambda function in Python to sort a list of tuples based on the second element of each tuple"
      ],
      "metadata": {
        "id": "GAwv4mBir2x3"
      }
    },
    {
      "cell_type": "code",
      "source": [
        "tuples_list = [(1, 3), (4, 1), (2, 2)]\n",
        "sorted_list = sorted(tuples_list, key=lambda x: x)\n",
        "print(sorted_list)"
      ],
      "metadata": {
        "id": "IzyJE0-WsNB4",
        "colab": {
          "base_uri": "https://localhost:8080/"
        },
        "outputId": "088f18b9-5fef-4a53-8852-8ea29bc5226c"
      },
      "execution_count": 3,
      "outputs": [
        {
          "output_type": "stream",
          "name": "stdout",
          "text": [
            "[(1, 3), (2, 2), (4, 1)]\n"
          ]
        }
      ]
    },
    {
      "cell_type": "markdown",
      "source": [
        "### Q9.Write a Python program that uses `map()`to convert a list of temperatures from Celsius to Fahrenheit."
      ],
      "metadata": {
        "id": "zWMSOugKueJT"
      }
    },
    {
      "cell_type": "code",
      "source": [
        "celsius_temps = [0, 30, 50, 100]\n",
        "fahrenheit_temps = list(map(lambda c: (c * 9/5) + 32, celsius_temps))\n",
        "print(fahrenheit_temps)"
      ],
      "metadata": {
        "colab": {
          "base_uri": "https://localhost:8080/"
        },
        "id": "ppcjLz6Yuo3w",
        "outputId": "f8ea714e-2953-4010-c41c-daacfbc337e9"
      },
      "execution_count": 5,
      "outputs": [
        {
          "output_type": "stream",
          "name": "stdout",
          "text": [
            "[32.0, 86.0, 122.0, 212.0]\n"
          ]
        }
      ]
    },
    {
      "cell_type": "markdown",
      "source": [
        "### Q10.Create a Python program that uses `filter()` to remove all the vowels from a given string."
      ],
      "metadata": {
        "id": "kwBkK_Ghvin8"
      }
    },
    {
      "cell_type": "code",
      "source": [
        "def remove_vowels(input_string):\n",
        "    vowels = \"aeiouAEIOU\"\n",
        "    filtered_chars = filter(lambda char: char not in vowels, input_string)\n",
        "    return ''.join(filtered_chars)\n",
        "text = \"Hello, World!\"\n",
        "result = remove_vowels(text)\n",
        "print(result)"
      ],
      "metadata": {
        "colab": {
          "base_uri": "https://localhost:8080/"
        },
        "id": "9FKwwBG-vsbS",
        "outputId": "5757ad81-ee37-4ba2-de03-6cc7212b51b1"
      },
      "execution_count": 9,
      "outputs": [
        {
          "output_type": "stream",
          "name": "stdout",
          "text": [
            "Hll, Wrld!\n"
          ]
        }
      ]
    },
    {
      "cell_type": "markdown",
      "source": [
        "### Q11.Imagine an accounting routine used in a book shop. It works on a list with sublists, which look like this:   Write a Python program, which returns a list with 2-tuples. Each tuple consists of the order number and the product of the price per item and the quantity.. The product should be increased by 10,- € if the value of the order is smaller than 100,00 €.Write a Python program using lambda and map.\n",
        "\n"
      ],
      "metadata": {
        "id": "DtqLDrwGwilx"
      }
    },
    {
      "cell_type": "code",
      "source": [
        "orders = [\n",
        "    [34587, \"Learning Python, Mark Lutz\", 4, 40.95],\n",
        "    [98762, \"Programming Python, Mark Lutz\", 5, 56.80],\n",
        "    [77226, \"Head First Python, Paul Barry\", 3, 32.95],\n",
        "    [88112, \"Einführung in Python3, Bernd Klein\", 3, 24.99]\n",
        "]\n",
        "\n",
        "result = list(map(\n",
        "    lambda order: (\n",
        "        order[0],\n",
        "        order[2] * order[3] + (10 if order[2] * order[3] < 10000 else 0)\n",
        "    ),\n",
        "    orders\n",
        "))\n",
        "\n",
        "print(result)"
      ],
      "metadata": {
        "colab": {
          "base_uri": "https://localhost:8080/"
        },
        "id": "yRufrfy1IevH",
        "outputId": "56ed926e-e45d-4776-c707-183be369ed22"
      },
      "execution_count": 1,
      "outputs": [
        {
          "output_type": "stream",
          "name": "stdout",
          "text": [
            "[(34587, 173.8), (98762, 294.0), (77226, 108.85000000000001), (88112, 84.97)]\n"
          ]
        }
      ]
    }
  ]
}